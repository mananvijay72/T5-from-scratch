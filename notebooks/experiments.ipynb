{
 "cells": [
  {
   "cell_type": "code",
   "execution_count": 1,
   "id": "2f832f44",
   "metadata": {},
   "outputs": [],
   "source": [
    "import numpy as np  "
   ]
  },
  {
   "cell_type": "code",
   "execution_count": 21,
   "id": "e04a2f38",
   "metadata": {},
   "outputs": [],
   "source": [
    "X_data = np.random.randint(0, 10, (10, 8))\n",
    "\n",
    "idx = np.random.choice(len(X_data), 2, replace=False)\n",
    "x = X_data[idx]\n"
   ]
  },
  {
   "cell_type": "code",
   "execution_count": 22,
   "id": "1cf3c1af",
   "metadata": {},
   "outputs": [
    {
     "data": {
      "text/plain": [
       "array([[8, 2, 4, 3, 6, 7, 3, 9],\n",
       "       [4, 1, 9, 8, 2, 1, 7, 3]])"
      ]
     },
     "execution_count": 22,
     "metadata": {},
     "output_type": "execute_result"
    }
   ],
   "source": [
    "x"
   ]
  },
  {
   "cell_type": "code",
   "execution_count": 17,
   "id": "dc1a9383",
   "metadata": {},
   "outputs": [
    {
     "data": {
      "text/plain": [
       "array([[1, 6, 1, 9, 9, 2, 9, 0],\n",
       "       [9, 6, 5, 0, 2, 1, 6, 4],\n",
       "       [5, 4, 1, 7, 3, 6, 2, 7],\n",
       "       [1, 2, 3, 7, 6, 5, 9, 9],\n",
       "       [0, 2, 1, 9, 6, 5, 7, 2],\n",
       "       [5, 2, 0, 7, 5, 0, 7, 6],\n",
       "       [8, 3, 6, 5, 3, 9, 0, 1],\n",
       "       [7, 3, 8, 5, 7, 4, 5, 6],\n",
       "       [1, 3, 5, 5, 7, 1, 3, 0],\n",
       "       [9, 5, 6, 7, 6, 6, 0, 8]])"
      ]
     },
     "execution_count": 17,
     "metadata": {},
     "output_type": "execute_result"
    }
   ],
   "source": [
    "X_data"
   ]
  },
  {
   "cell_type": "code",
   "execution_count": 14,
   "id": "45a20427",
   "metadata": {},
   "outputs": [
    {
     "data": {
      "text/plain": [
       "array([[3, 5, 6, 2, 4, 8, 7, 7],\n",
       "       [6, 0, 2, 7, 2, 2, 5, 8]])"
      ]
     },
     "execution_count": 14,
     "metadata": {},
     "output_type": "execute_result"
    }
   ],
   "source": [
    "dummy_input = np.random.randint(0, 10, (2, 8))\n",
    "dummy_input"
   ]
  },
  {
   "cell_type": "code",
   "execution_count": 6,
   "id": "481cea65",
   "metadata": {},
   "outputs": [],
   "source": [
    "import os\n",
    "import sys\n",
    "sys.path.append(os.path.abspath(os.path.join(os.getcwd(), \"..\")))"
   ]
  },
  {
   "cell_type": "code",
   "execution_count": 7,
   "id": "da6a5d15",
   "metadata": {},
   "outputs": [],
   "source": [
    "from core.tensor import Tensor\n",
    "import numpy as np\n",
    "import os"
   ]
  },
  {
   "cell_type": "code",
   "execution_count": 18,
   "id": "570280ec",
   "metadata": {},
   "outputs": [],
   "source": [
    "class EmbeddingLayer:\n",
    "    def __init__(self, vocab_size, hidden_dim):\n",
    "        self.weight = Tensor(np.random.randn(vocab_size, hidden_dim), requires_grad=True)\n",
    "\n",
    "    def __call__(self, input_ids: np.ndarray) -> Tensor:\n",
    "        # input_ids can be a Tensor or a numpy int array\n",
    "        return Tensor(np.take(self.weight.data, input_ids, axis=0), requires_grad=True)\n",
    "\n",
    "    def parameters(self):\n",
    "        return [self.weight]\n"
   ]
  },
  {
   "cell_type": "code",
   "execution_count": 19,
   "id": "34b40ccd",
   "metadata": {},
   "outputs": [
    {
     "data": {
      "text/plain": [
       "<__main__.EmbeddingLayer at 0x272d5216d70>"
      ]
     },
     "execution_count": 19,
     "metadata": {},
     "output_type": "execute_result"
    }
   ],
   "source": [
    "emb = EmbeddingLayer(vocab_size=10, hidden_dim=8)\n",
    "emb.weight.data\n",
    "emb"
   ]
  },
  {
   "cell_type": "code",
   "execution_count": 20,
   "id": "390a54dc",
   "metadata": {},
   "outputs": [
    {
     "data": {
      "text/plain": [
       "array([[1, 4],\n",
       "       [3, 2]])"
      ]
     },
     "execution_count": 20,
     "metadata": {},
     "output_type": "execute_result"
    }
   ],
   "source": [
    "id = np.array([[1,4],[3,2]], dtype = np.int32)\n",
    "id"
   ]
  },
  {
   "cell_type": "code",
   "execution_count": 21,
   "id": "4c37abf8",
   "metadata": {},
   "outputs": [
    {
     "data": {
      "text/plain": [
       "array([1, 4, 3, 2])"
      ]
     },
     "execution_count": 21,
     "metadata": {},
     "output_type": "execute_result"
    }
   ],
   "source": [
    "id.reshape(-1)"
   ]
  },
  {
   "cell_type": "code",
   "execution_count": 42,
   "id": "f514c64b",
   "metadata": {},
   "outputs": [
    {
     "ename": "AttributeError",
     "evalue": "'NoneType' object has no attribute 'data'",
     "output_type": "error",
     "traceback": [
      "\u001b[1;31m---------------------------------------------------------------------------\u001b[0m",
      "\u001b[1;31mAttributeError\u001b[0m                            Traceback (most recent call last)",
      "Cell \u001b[1;32mIn[42], line 1\u001b[0m\n\u001b[1;32m----> 1\u001b[0m \u001b[43memb\u001b[49m\u001b[38;5;241;43m.\u001b[39;49m\u001b[43mweight\u001b[49m\u001b[38;5;241;43m.\u001b[39;49m\u001b[43mgather\u001b[49m\u001b[43m(\u001b[49m\u001b[38;5;241;43m1\u001b[39;49m\u001b[43m,\u001b[49m\u001b[43m \u001b[49m\u001b[38;5;241;43m1\u001b[39;49m\u001b[43m)\u001b[49m\u001b[38;5;241;43m.\u001b[39;49m\u001b[43mdata\u001b[49m\n",
      "\u001b[1;31mAttributeError\u001b[0m: 'NoneType' object has no attribute 'data'"
     ]
    }
   ],
   "source": [
    "emb.weight.gather(1, 1).data"
   ]
  },
  {
   "cell_type": "code",
   "execution_count": 28,
   "id": "0a80304e",
   "metadata": {},
   "outputs": [
    {
     "data": {
      "text/plain": [
       "array([[ 0.42705875, -1.83222039, -0.68135486,  0.09278092,  0.17859257,\n",
       "         0.03048416, -1.17680119, -0.80175523],\n",
       "       [ 0.06731017,  1.10336124,  1.51124749,  0.86604303,  0.32573859,\n",
       "         0.09382551,  1.31097907,  0.68986266],\n",
       "       [-1.20165219,  0.48093064,  0.50756281,  0.57713281, -0.39337005,\n",
       "        -2.41465751, -2.52722941,  1.60977174],\n",
       "       [ 0.3052633 , -0.26723335, -1.80289223, -1.0857104 ,  0.28418206,\n",
       "        -0.44675944,  0.07719691, -0.08440967],\n",
       "       [ 0.54695504,  1.07843795, -0.24294908, -1.11703216, -0.29597079,\n",
       "        -0.36355226, -1.82647105, -1.87978453],\n",
       "       [ 0.06728855,  0.15455863, -1.51974469,  2.16044559,  0.11665743,\n",
       "        -0.8211282 , -0.95523661, -0.19135405],\n",
       "       [ 1.63803273, -1.07662567, -0.86653662, -0.17761856, -0.34460021,\n",
       "         0.58789151,  1.22239842,  2.00892166],\n",
       "       [-0.64414526, -1.4672004 , -0.4782096 , -0.50575537,  0.72023786,\n",
       "         0.55350734, -0.16940651, -0.54805076],\n",
       "       [-0.28635518, -0.26946255,  0.19741107, -1.22849308, -0.26642966,\n",
       "         0.17646015, -2.02328897, -1.02205819],\n",
       "       [ 0.80803105,  0.63873407,  1.02536907,  0.00869093,  0.60821385,\n",
       "        -0.70640866, -0.66678292,  0.36298198]])"
      ]
     },
     "execution_count": 28,
     "metadata": {},
     "output_type": "execute_result"
    }
   ],
   "source": [
    "emb.weight.data"
   ]
  },
  {
   "cell_type": "code",
   "execution_count": 53,
   "id": "5d55829a",
   "metadata": {},
   "outputs": [
    {
     "data": {
      "text/plain": [
       "array([[-1.09516624,  1.46668509,  0.54910108,  0.01749627, -0.33857317,\n",
       "        -0.14709036,  0.46534263, -1.10381369, -0.48424701, -1.39875322],\n",
       "       [-1.39999725, -0.09341065,  1.19543641, -0.0209185 ,  0.44439755,\n",
       "         0.54285321,  0.04707359, -1.10456076, -0.97585059, -0.7613373 ],\n",
       "       [ 0.1686404 , -0.85512684,  0.18776137, -1.12628062, -0.49832751,\n",
       "         0.10349496, -0.23673547,  0.83145844, -0.68500885,  1.1116461 ],\n",
       "       [ 1.03409858,  0.70870937, -0.21351386, -1.10718639,  0.42441904,\n",
       "         0.38545012,  0.09409895, -0.3076364 ,  1.10788471,  0.186884  ],\n",
       "       [-0.19404417,  0.36332314,  0.84365509,  0.85451538, -1.09848272,\n",
       "        -1.18965219, -0.07800824, -0.20571097,  0.68905897,  2.22512598],\n",
       "       [ 0.40990001,  0.09041661, -2.78769081,  0.10255861, -0.15370072,\n",
       "         0.98523815,  1.22221796, -1.66870401,  0.00309363,  0.75796169],\n",
       "       [-0.40698782,  0.27406472,  0.84013884,  0.47924524,  2.23341565,\n",
       "        -0.87469095,  1.01440587, -1.36530894,  1.197341  , -1.11294412],\n",
       "       [-0.27661563,  0.33593433,  0.81985409, -1.94760925,  1.61582928,\n",
       "        -0.42951935, -1.20303649, -0.79378897,  0.50152933, -1.69869204]])"
      ]
     },
     "execution_count": 53,
     "metadata": {},
     "output_type": "execute_result"
    }
   ],
   "source": [
    "weight = Tensor(np.random.randn(8,10), requires_grad=True)\n",
    "weight.data"
   ]
  },
  {
   "cell_type": "code",
   "execution_count": 55,
   "id": "909416eb",
   "metadata": {},
   "outputs": [
    {
     "data": {
      "text/plain": [
       "array([1.46668509, 1.19543641, 1.1116461 , 1.10788471, 2.22512598,\n",
       "       1.22221796, 2.23341565, 1.61582928])"
      ]
     },
     "execution_count": 55,
     "metadata": {},
     "output_type": "execute_result"
    }
   ],
   "source": [
    "weight.data.max(axis =1)"
   ]
  },
  {
   "cell_type": "markdown",
   "id": "47c34a3d",
   "metadata": {},
   "source": [
    "# SPM"
   ]
  },
  {
   "cell_type": "code",
   "execution_count": 1,
   "id": "84a62439",
   "metadata": {},
   "outputs": [],
   "source": [
    "import sentencepiece as spm\n"
   ]
  },
  {
   "cell_type": "code",
   "execution_count": 2,
   "id": "5704169d",
   "metadata": {},
   "outputs": [],
   "source": [
    "spm = spm.SentencePieceProcessor()"
   ]
  },
  {
   "cell_type": "code",
   "execution_count": 3,
   "id": "f7f5945b",
   "metadata": {},
   "outputs": [
    {
     "data": {
      "text/plain": [
       "True"
      ]
     },
     "execution_count": 3,
     "metadata": {},
     "output_type": "execute_result"
    }
   ],
   "source": [
    "spm.load(r\"C:\\projects\\T5\\data\\spm_multitask.model\")"
   ]
  },
  {
   "cell_type": "code",
   "execution_count": 4,
   "id": "ef87c29d",
   "metadata": {},
   "outputs": [
    {
     "data": {
      "text/plain": [
       "'<translate> <lang:hi> I love you.'"
      ]
     },
     "execution_count": 4,
     "metadata": {},
     "output_type": "execute_result"
    }
   ],
   "source": [
    "spm.decode([12, 4, 12, 8, 55, 49, 74, 12, 19, 44, 14])"
   ]
  },
  {
   "cell_type": "code",
   "execution_count": 12,
   "id": "8f10ab8e",
   "metadata": {},
   "outputs": [
    {
     "data": {
      "text/plain": [
       "'<translate> <lang:es> I love you.'"
      ]
     },
     "execution_count": 12,
     "metadata": {},
     "output_type": "execute_result"
    }
   ],
   "source": [
    "spm.decode([12, 4, 12, 9, 55, 49, 74, 12, 19, 44, 14])"
   ]
  },
  {
   "cell_type": "markdown",
   "id": "19d75e0c",
   "metadata": {},
   "source": [
    "# english to hindi dataset"
   ]
  },
  {
   "cell_type": "code",
   "execution_count": null,
   "id": "533245bd",
   "metadata": {},
   "outputs": [
    {
     "name": "stdout",
     "output_type": "stream",
     "text": [
      "Example pairs (first 5):\n",
      "{'translation': {'en': 'Give your application an accessibility workout', 'hi': 'अपने अनुप्रयोग को पहुंचनीयता व्यायाम का लाभ दें'}}\n",
      "{'translation': {'en': 'Accerciser Accessibility Explorer', 'hi': 'एक्सेर्साइसर पहुंचनीयता अन्वेषक'}}\n",
      "{'translation': {'en': 'The default plugin layout for the bottom panel', 'hi': 'निचले पटल के लिए डिफोल्ट प्लग-इन खाका'}}\n",
      "{'translation': {'en': 'The default plugin layout for the top panel', 'hi': 'ऊपरी पटल के लिए डिफोल्ट प्लग-इन खाका'}}\n",
      "{'translation': {'en': 'A list of plugins that are disabled by default', 'hi': 'उन प्लग-इनों की सूची जिन्हें डिफोल्ट रूप से निष्क्रिय किया गया है'}}\n"
     ]
    }
   ],
   "source": [
    "from datasets import load_dataset\n",
    "\n",
    "# Load IITB dataset\n",
    "ds = load_dataset(\"cfilt/iitb-english-hindi\", split=\"train\")\n",
    "\n",
    "print(\"Example pairs (first 5):\")\n",
    "for sample in ds.select(range(5)):\n",
    "    print(sample)\n"
   ]
  },
  {
   "cell_type": "code",
   "execution_count": null,
   "id": "0888559c",
   "metadata": {},
   "outputs": [
    {
     "ename": "OSError",
     "evalue": "Not found: \"./data/spm_multitask.model\": No such file or directory Error #2",
     "output_type": "error",
     "traceback": [
      "\u001b[1;31m---------------------------------------------------------------------------\u001b[0m",
      "\u001b[1;31mOSError\u001b[0m                                   Traceback (most recent call last)",
      "Cell \u001b[1;32mIn[12], line 3\u001b[0m\n\u001b[0;32m      1\u001b[0m \u001b[38;5;28;01mimport\u001b[39;00m\u001b[38;5;250m \u001b[39m\u001b[38;5;21;01msentencepiece\u001b[39;00m\u001b[38;5;250m \u001b[39m\u001b[38;5;28;01mas\u001b[39;00m\u001b[38;5;250m \u001b[39m\u001b[38;5;21;01mspm\u001b[39;00m\n\u001b[1;32m----> 3\u001b[0m spm \u001b[38;5;241m=\u001b[39m \u001b[43mspm\u001b[49m\u001b[38;5;241;43m.\u001b[39;49m\u001b[43mSentencePieceProcessor\u001b[49m\u001b[43m(\u001b[49m\u001b[38;5;124;43mr\u001b[39;49m\u001b[38;5;124;43m\"\u001b[39;49m\u001b[38;5;124;43m./data/spm_multitask.model\u001b[39;49m\u001b[38;5;124;43m\"\u001b[39;49m\u001b[43m)\u001b[49m\n",
      "File \u001b[1;32mc:\\projects\\T5\\myenv\\lib\\site-packages\\sentencepiece\\__init__.py:468\u001b[0m, in \u001b[0;36mSentencePieceProcessor.Init\u001b[1;34m(self, model_file, model_proto, out_type, add_bos, add_eos, reverse, emit_unk_piece, enable_sampling, nbest_size, alpha, num_threads)\u001b[0m\n\u001b[0;32m    466\u001b[0m \u001b[38;5;28mself\u001b[39m\u001b[38;5;241m.\u001b[39m_num_threads \u001b[38;5;241m=\u001b[39m num_threads\n\u001b[0;32m    467\u001b[0m \u001b[38;5;28;01mif\u001b[39;00m model_file \u001b[38;5;129;01mor\u001b[39;00m model_proto:\n\u001b[1;32m--> 468\u001b[0m   \u001b[38;5;28;43mself\u001b[39;49m\u001b[38;5;241;43m.\u001b[39;49m\u001b[43mLoad\u001b[49m\u001b[43m(\u001b[49m\u001b[43mmodel_file\u001b[49m\u001b[38;5;241;43m=\u001b[39;49m\u001b[43mmodel_file\u001b[49m\u001b[43m,\u001b[49m\u001b[43m \u001b[49m\u001b[43mmodel_proto\u001b[49m\u001b[38;5;241;43m=\u001b[39;49m\u001b[43mmodel_proto\u001b[49m\u001b[43m)\u001b[49m\n",
      "File \u001b[1;32mc:\\projects\\T5\\myenv\\lib\\site-packages\\sentencepiece\\__init__.py:961\u001b[0m, in \u001b[0;36mSentencePieceProcessor.Load\u001b[1;34m(self, model_file, model_proto)\u001b[0m\n\u001b[0;32m    959\u001b[0m \u001b[38;5;28;01mif\u001b[39;00m model_proto:\n\u001b[0;32m    960\u001b[0m   \u001b[38;5;28;01mreturn\u001b[39;00m \u001b[38;5;28mself\u001b[39m\u001b[38;5;241m.\u001b[39mLoadFromSerializedProto(model_proto)\n\u001b[1;32m--> 961\u001b[0m \u001b[38;5;28;01mreturn\u001b[39;00m \u001b[38;5;28;43mself\u001b[39;49m\u001b[38;5;241;43m.\u001b[39;49m\u001b[43mLoadFromFile\u001b[49m\u001b[43m(\u001b[49m\u001b[43mmodel_file\u001b[49m\u001b[43m)\u001b[49m\n",
      "File \u001b[1;32mc:\\projects\\T5\\myenv\\lib\\site-packages\\sentencepiece\\__init__.py:316\u001b[0m, in \u001b[0;36mSentencePieceProcessor.LoadFromFile\u001b[1;34m(self, arg)\u001b[0m\n\u001b[0;32m    315\u001b[0m \u001b[38;5;28;01mdef\u001b[39;00m\u001b[38;5;250m \u001b[39m\u001b[38;5;21mLoadFromFile\u001b[39m(\u001b[38;5;28mself\u001b[39m, arg):\n\u001b[1;32m--> 316\u001b[0m     \u001b[38;5;28;01mreturn\u001b[39;00m \u001b[43m_sentencepiece\u001b[49m\u001b[38;5;241;43m.\u001b[39;49m\u001b[43mSentencePieceProcessor_LoadFromFile\u001b[49m\u001b[43m(\u001b[49m\u001b[38;5;28;43mself\u001b[39;49m\u001b[43m,\u001b[49m\u001b[43m \u001b[49m\u001b[43marg\u001b[49m\u001b[43m)\u001b[49m\n",
      "\u001b[1;31mOSError\u001b[0m: Not found: \"./data/spm_multitask.model\": No such file or directory Error #2"
     ]
    }
   ],
   "source": [
    "import sentencepiece as spm\n",
    "\n",
    "spm = spm.SentencePieceProcessor(r\"C:\\projects\\T5\\data\\spm_multitask.model\")\n"
   ]
  },
  {
   "cell_type": "code",
   "execution_count": null,
   "id": "a1630f42",
   "metadata": {},
   "outputs": [],
   "source": [
    " "
   ]
  }
 ],
 "metadata": {
  "kernelspec": {
   "display_name": "myenv",
   "language": "python",
   "name": "python3"
  },
  "language_info": {
   "codemirror_mode": {
    "name": "ipython",
    "version": 3
   },
   "file_extension": ".py",
   "mimetype": "text/x-python",
   "name": "python",
   "nbconvert_exporter": "python",
   "pygments_lexer": "ipython3",
   "version": "3.10.0"
  }
 },
 "nbformat": 4,
 "nbformat_minor": 5
}
